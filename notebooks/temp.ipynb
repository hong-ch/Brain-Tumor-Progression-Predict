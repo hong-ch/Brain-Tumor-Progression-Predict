{
 "cells": [
  {
   "cell_type": "code",
   "execution_count": 1,
   "id": "627a0fc4",
   "metadata": {},
   "outputs": [
    {
     "name": "stdout",
     "output_type": "stream",
     "text": [
      "(22, 240, 240)\n"
     ]
    }
   ],
   "source": [
    "import nibabel as nib\n",
    "\n",
    "img = nib.load(\"/mnt/ssd/brain-tumor-prediction/data/btp_reg_flirt_t1ce_fixed22_nostrip/PGBM-001/1992-04-02/t1ce2fixed_affine.nii.gz\")\n",
    "print(img.shape)"
   ]
  },
  {
   "cell_type": "code",
   "execution_count": 2,
   "id": "e7f143da",
   "metadata": {},
   "outputs": [
    {
     "name": "stdout",
     "output_type": "stream",
     "text": [
      "(22, 240, 240)\n"
     ]
    }
   ],
   "source": [
    "import nibabel as nib\n",
    "\n",
    "img = nib.load(\"/mnt/ssd/brain-tumor-prediction/data/btp_reg_flirt_t1ce_fixed22_nostrip/PGBM-001/1992-04-02/mask2fixed_affine.nii.gz\")\n",
    "print(img.shape)"
   ]
  },
  {
   "cell_type": "code",
   "execution_count": 3,
   "id": "2035e7fc",
   "metadata": {},
   "outputs": [
    {
     "name": "stdout",
     "output_type": "stream",
     "text": [
      "(22, 240, 240)\n"
     ]
    }
   ],
   "source": [
    "import nibabel as nib\n",
    "\n",
    "img = nib.load(\"/mnt/ssd/brain-tumor-prediction/data/btp_reg_flirt_t1ce_fixed22_nostrip/PGBM-001/1991-11-19/t1ce.nii.gz\")\n",
    "print(img.shape)"
   ]
  },
  {
   "cell_type": "code",
   "execution_count": 4,
   "id": "7e55d03c",
   "metadata": {},
   "outputs": [
    {
     "name": "stdout",
     "output_type": "stream",
     "text": [
      "(22, 240, 240)\n"
     ]
    }
   ],
   "source": [
    "import nibabel as nib\n",
    "\n",
    "img = nib.load(\"/mnt/ssd/brain-tumor-prediction/data/btp_reg_flirt_t1ce_fixed22_nostrip/PGBM-001/1991-11-19/mask.nii.gz\")\n",
    "print(img.shape)"
   ]
  },
  {
   "cell_type": "code",
   "execution_count": null,
   "id": "a4f6845b",
   "metadata": {},
   "outputs": [],
   "source": []
  }
 ],
 "metadata": {
  "kernelspec": {
   "display_name": "venv",
   "language": "python",
   "name": "python3"
  },
  "language_info": {
   "codemirror_mode": {
    "name": "ipython",
    "version": 3
   },
   "file_extension": ".py",
   "mimetype": "text/x-python",
   "name": "python",
   "nbconvert_exporter": "python",
   "pygments_lexer": "ipython3",
   "version": "3.10.12"
  }
 },
 "nbformat": 4,
 "nbformat_minor": 5
}
